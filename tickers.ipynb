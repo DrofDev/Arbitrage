{
 "cells": [
  {
   "metadata": {
    "ExecuteTime": {
     "end_time": "2024-08-26T17:51:41.191543Z",
     "start_time": "2024-08-26T17:51:41.188802Z"
    }
   },
   "cell_type": "code",
   "source": [
    "import pandas as pd\n",
    "from collections import deque"
   ],
   "id": "9e32e751741bffc3",
   "outputs": [],
   "execution_count": 11
  },
  {
   "metadata": {
    "ExecuteTime": {
     "end_time": "2024-08-26T17:51:41.514346Z",
     "start_time": "2024-08-26T17:51:41.508248Z"
    }
   },
   "cell_type": "code",
   "source": "df = pd.read_csv('/Users/wouter/Documents/Finance/crypto/MEXC_Tickers.csv', sep=';')",
   "id": "dc9202d74e8dae20",
   "outputs": [],
   "execution_count": 12
  },
  {
   "metadata": {
    "ExecuteTime": {
     "end_time": "2024-08-26T18:22:26.443813Z",
     "start_time": "2024-08-26T18:22:26.435128Z"
    }
   },
   "cell_type": "code",
   "source": [
    "class Matrix:\n",
    "    def __init__(self, df):\n",
    "        # Keep the original DataFrame for reference\n",
    "        self.headers = df.columns.tolist()\n",
    "        self.df = df.reset_index(drop=True)\n",
    "        self.matrix = self._convert_to_matrix(self.df.copy())\n",
    "    \n",
    "    def _convert_to_matrix(self, df):\n",
    "        df = df.fillna(0) # Replace NaN with -1\n",
    "        matrix = df.map(lambda x: 1 if isinstance(x, str) else x).values # Replace all strings with 1\n",
    "        return matrix\n",
    "\n",
    "    def print_matrix(self):\n",
    "        print(self.matrix)\n",
    "    \n",
    "    def get_matrix(self):\n",
    "        return self.matrix\n",
    "    \n",
    "    def get_df(self):\n",
    "        return self.df\n",
    "    \n",
    "    def print_df(self):\n",
    "        print(self.df)\n",
    "        \n",
    "    def get_currency(self, paths, row, col):\n",
    "        # Get the base currency from the row index\n",
    "        base_currency = self.df.iloc[row,col]  # Adjust as necessary if row index is not the currency\n",
    "        \n",
    "        # Get the quote currency from the column header\n",
    "        quote_currency = self.headers[col]  # Adjust as necessary if column headers are not the currency\n",
    "        \n",
    "        return f\"{base_currency}/{quote_currency}\"\n",
    "    \n",
    "    def check_if_equal_to_base(self,start_col, row, col) -> bool:\n",
    "        quote_currency = self.headers[start_col]\n",
    "        base_currency = self.df.iloc[row,col]\n",
    "        if quote_currency == base_currency:\n",
    "            return True\n",
    "        else:\n",
    "            return False\n",
    "\n",
    "        \n",
    "    def get_arbitrage_paths(self, start_row, start_col, max_length, conversion=True):\n",
    "        all_paths = []\n",
    "        \n",
    "        # Queue stores (current_position, path, move count, last_move_was_horizontal, path_visited)\n",
    "        queue = deque([((start_row, start_col), [(start_row, start_col)], 0, False, set([(start_row, start_col)]))]) \n",
    "        \n",
    "        while queue:\n",
    "            (row, col), path, moves_count, last_move_was_horizontal, path_visited = queue.popleft()\n",
    "            \n",
    "            # Debugging print\n",
    "            \n",
    "            if moves_count == max_length:\n",
    "                if col == start_col:\n",
    "                    all_paths.append(path)\n",
    "                    \n",
    "                elif self.check_if_equal_to_base(start_col, row, col):\n",
    "                    # row.currency in current column equal to currency of starting header\n",
    "                    all_paths.append(path)\n",
    "                    \n",
    "                continue  # Stop exploring further for this path\n",
    "            \n",
    "            if last_move_was_horizontal:\n",
    "                moves = self.get_vertical_moves(row, col)\n",
    "            else:\n",
    "                moves = self.get_horizontal_moves(row, col)\n",
    "            \n",
    "            for move in moves:\n",
    "                new_row, new_col = move\n",
    "                if (new_row, new_col) not in path_visited:\n",
    "                    new_path = path + [move]\n",
    "                    new_path_visited = path_visited.copy()\n",
    "                    new_path_visited.add((new_row, new_col))\n",
    "                    queue.append(((new_row, new_col), new_path, moves_count + 1, not last_move_was_horizontal, new_path_visited))\n",
    "        \n",
    "        if conversion:\n",
    "            currency_paths = [\n",
    "            [self.get_currency(all_paths, row, col) for row, col in path]\n",
    "            for path in all_paths]\n",
    "            \n",
    "        else:\n",
    "            currency_paths = all_paths\n",
    "        \n",
    "        return currency_paths\n",
    "    \n",
    "    def get_horizontal_moves(self, row, col):\n",
    "        cols = self.matrix.shape[1]\n",
    "        current = (row, col)\n",
    "        moves = []\n",
    "        for i in range(cols):\n",
    "            if self.matrix[row][i] == 1 and (row, i) != current:\n",
    "                moves.append((row, i))\n",
    "        return moves\n",
    "    \n",
    "    def get_vertical_moves(self, row, col):\n",
    "        rows = self.matrix.shape[0]\n",
    "        current = (row, col)\n",
    "        moves = []\n",
    "        for i in range(rows):\n",
    "            if self.matrix[i][col] == 1 and (i, col) != current:\n",
    "                moves.append((i, col))\n",
    "        return moves"
   ],
   "id": "383e6f1b8eb74840",
   "outputs": [],
   "execution_count": 25
  },
  {
   "metadata": {
    "ExecuteTime": {
     "end_time": "2024-08-26T18:25:42.626218Z",
     "start_time": "2024-08-26T18:25:42.620379Z"
    }
   },
   "cell_type": "code",
   "source": [
    "MEXC = Matrix(df)\n",
    "results = MEXC.get_arbitrage_paths(90, 0, 2, conversion=True)\n",
    "\n",
    "print(\"Traversal Results:\")\n",
    "for path in results:\n",
    "    print(path)"
   ],
   "id": "9540861da519eee0",
   "outputs": [
    {
     "name": "stdout",
     "output_type": "stream",
     "text": [
      "Traversal Results:\n",
      "['HOP/USDT', 'HOP/USDC', 'USDT/USDC']\n"
     ]
    }
   ],
   "execution_count": 37
  },
  {
   "metadata": {
    "ExecuteTime": {
     "end_time": "2024-08-26T18:25:10.392293Z",
     "start_time": "2024-08-26T18:25:10.387373Z"
    }
   },
   "cell_type": "code",
   "source": "MEXC.print_df()",
   "id": "77d24ca7a15c5ca8",
   "outputs": [
    {
     "name": "stdout",
     "output_type": "stream",
     "text": [
      "    USDT  USDC   ETH   BTC  TUSD\n",
      "0    BTC   BTC   BTC   NaN   BTC\n",
      "1    ETH   ETH   NaN   ETH   ETH\n",
      "2   USDC   NaN  USDC  USDC   NaN\n",
      "3    NaN  USDT  USDT  USDT  USDT\n",
      "4     MX    MX    MX    MX   NaN\n",
      "..   ...   ...   ...   ...   ...\n",
      "90   HOP   HOP   NaN   NaN   NaN\n",
      "91  SHIT  SHIT   NaN   NaN   NaN\n",
      "92   OLE   OLE   NaN   NaN   NaN\n",
      "93   CCT   CCT   NaN   NaN   NaN\n",
      "94  CGPT  CGPT   NaN   NaN   NaN\n",
      "\n",
      "[95 rows x 5 columns]\n"
     ]
    }
   ],
   "execution_count": 36
  },
  {
   "metadata": {},
   "cell_type": "code",
   "outputs": [],
   "execution_count": null,
   "source": "",
   "id": "5051465904f11136"
  }
 ],
 "metadata": {
  "kernelspec": {
   "name": "python3",
   "language": "python",
   "display_name": "Python 3 (ipykernel)"
  }
 },
 "nbformat": 4,
 "nbformat_minor": 5
}
